{
 "cells": [
  {
   "cell_type": "code",
   "execution_count": 2,
   "metadata": {},
   "outputs": [],
   "source": [
    "% First, make sure that the ESC toolbox functions are in the path\n",
    "addpath ./readonly/ \n",
    "load('./readonly/CellModel.mat');               % ESC cell model\n",
    "load('./readonly/CellData.mat');  % load ESC model"
   ]
  },
  {
   "cell_type": "code",
   "execution_count": 3,
   "metadata": {},
   "outputs": [],
   "source": [
    "% function [pChg,pDis] = HPPCpower(z0,T,dT,eta,ns,np,model,limits)\n",
    "%\n",
    "% z0  -  the SOC to use when computing discharge and charge resistances RDis and RChg, \n",
    "%       and when computing available power based on SOC limits; the same value is \n",
    "%       used for every cell in the battery pack\n",
    "% T   - the temperature to use when computing discharge and charge resistances RDis and RChg, \n",
    "%       and when computing available power; the same value is used for every cell in the battery pack\n",
    "% dT  - the pulse duration to use when computing discharge and charge resistances RDis and RChg;\n",
    "%       note that the pulse magnitude should use a 10C rate (just like example code from lesson 5.3.3)\n",
    "% eta - the coulombic efficiency to use when computing available power based on SOC limits\n",
    "% ns  - the number of cells in series in the battery pack\n",
    "% np  - the number of cells in parallel in the battery pack\n",
    "% model - an ESC model type\n",
    "% limits - design limits on SOC, voltage, current, and power (see code for how these are stored)\n",
    "%\n",
    "% pChg - your computed value for charge power (W)\n",
    "% pDis - your computed value for discharge power (W)\n",
    "function [pChg,pDis] = HPPCpower(z0,T,dT,eta,ns,np,model,limits)\n",
    "\n",
    "  % First, unpack the design limits from the \"limits\" structure.\n",
    "  % These limits have the same meaning as in the example code for Lesson 5.3.4\n",
    "  zMin = limits.zMin; zMax = limits.zMax; % Retrieve SOC limits [unitless]\n",
    "  vMin = limits.vMin; vMax = limits.vMax; % Retrieve voltage limits [V]\n",
    "  iMin = limits.iMin; iMax = limits.iMax; % Retrieve current limits [A]\n",
    "  pMin = limits.pMin; pMax = limits.pMax; % Retrieve design power limits [W]\n",
    "  \n",
    "\n",
    "  % NOTE: Resistance calculated using a 10C dis/charge pulse for dT samples\n",
    "\n",
    "  Q = getParamESC('QParam',T,model); \n",
    "  iChgPulse = 10*Q*[zeros(5,1); -ones(dT,1); zeros(5,1)];  % [A] charge pulse\n",
    "  iDisPulse = 10*Q*[zeros(5,1);  ones(dT,1); zeros(5,1)];  % [A] discharge pulse\n",
    "  [vk,~,~,~,~] = simCell(iChgPulse,T,model,1,z0,0,0);\n",
    "  rChg  = abs((max(vk)-vk(1))/min(iChgPulse));\n",
    "  fprintf('Rchg = %2.4f (mOhm)\\n',1000*rChg)\n",
    "  [vk,~,~,~,~] = simCell(iDisPulse,T,model,1,z0,0,0);\n",
    "  rDis  = abs((min(vk)-vk(1))/max(iDisPulse));\n",
    "  fprintf('RDis = %2.4f (mOhm)\\n',1000*rDis)\n",
    "\n",
    "  % Now, compute pDis and pChg using rChg and rDis from above, and the equations\n",
    "  % from the notes. Be sure to incorporate z0, T, dT, eta, ns, np, and the limits\n",
    "  % correctly (The example code from Lesson 5.3.4 does not implement all of this\n",
    "  % functionality! You will need to study Lessons 5.3.2 and 5.3.3 to see which\n",
    "  % equations need to be implemented.)\n",
    "  \n",
    "OCV      = OCVfromSOCtemp(z0,T,model);\n",
    "\n",
    "iDisMaxV = (OCV-vMin)/rDis;\n",
    "iChgMinV = (OCV-vMax)/rChg;\n",
    "\n",
    "iDisMaxZ = (z0 - zMin)*3600*Q/dT;\n",
    "iChgMinZ = (z0 - zMax)*3600*Q/(eta*dT);\n",
    "\n",
    "iDisMax  = np*(max(0,min([iDisMaxV;iDisMaxZ;iMax*ones(size(z0))])));\n",
    "iChgMin  = np*(max([iChgMinV;iChgMinZ;iMin*ones(size(z0))]));\n",
    "\n",
    "pDis     = min(ns*vMin*iDisMax,ns*pMax*ones(size(z0)));\n",
    "pChg     = min(0,max(ns*vMax*iChgMin,ns*pMin*ones(size(z0))));\n",
    "\n",
    "end"
   ]
  },
  {
   "cell_type": "code",
   "execution_count": 4,
   "metadata": {},
   "outputs": [
    {
     "name": "stdout",
     "output_type": "stream",
     "text": [
      "Rchg = 3.6787 (mOhm)\n",
      "RDis = 3.7009 (mOhm)\n",
      "pChg = -385.18\n",
      "pDis =  885.55\n"
     ]
    }
   ],
   "source": [
    "% This code tests your HPPCpower function using default input values\n",
    "% You should verify that your code operates for reasonable non-default values as well\n",
    "% You will be graded on how closely your function results agree with mine\n",
    "default.z0 = 0.5;\n",
    "default.T = 25;\n",
    "default.dT = 10;\n",
    "default.eta = 1;\n",
    "default.ns = 1;\n",
    "default.np = 1;\n",
    "limits.zMin = 0.1;\n",
    "limits.zMax = 0.9;\n",
    "limits.vMin = 2.8;\n",
    "limits.vMax = 4.3;\n",
    "limits.iMin = -200;\n",
    "limits.iMax = 350;\n",
    "limits.pMin = -1000;\n",
    "limits.pMax = 1000;\n",
    "default.limits = limits;\n",
    "[pChg,pDis] = HPPCpower(default.z0,default.T,default.dT,default.eta,default.ns,default.np,model,default.limits)\n",
    "\n",
    "% Note that the correct answer for the default set of limits is:\n",
    "% pChg = -385.18\n",
    "% pDis = 885.55\n",
    "% It may also be helpful to know that the correct values for rChg and rDis for the default set of parameters is\n",
    "% rChg = 3.6787 mOhm\n",
    "% rDis = 3.7009 mOhm"
   ]
  }
 ],
 "metadata": {
  "kernelspec": {
   "display_name": "Octave",
   "language": "octave",
   "name": "octave"
  },
  "language_info": {
   "file_extension": ".m",
   "help_links": [
    {
     "text": "GNU Octave",
     "url": "https://www.gnu.org/software/octave/support.html"
    },
    {
     "text": "Octave Kernel",
     "url": "https://github.com/Calysto/octave_kernel"
    },
    {
     "text": "MetaKernel Magics",
     "url": "https://github.com/calysto/metakernel/blob/master/metakernel/magics/README.md"
    }
   ],
   "mimetype": "text/x-octave",
   "name": "octave",
   "version": "4.2.2"
  }
 },
 "nbformat": 4,
 "nbformat_minor": 2
}
